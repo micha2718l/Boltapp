{
 "cells": [
  {
   "cell_type": "code",
   "execution_count": 1,
   "id": "7bf8b70c-d897-4bfa-92b4-67d2b31cb444",
   "metadata": {},
   "outputs": [],
   "source": [
    "from pprint import pprint as pp\n",
    "import re\n",
    "import pandas as pd\n",
    "from bolt_app import models\n",
    "from sqlalchemy import create_engine\n",
    "from sqlalchemy.orm import Session\n",
    "from bolt_app import db"
   ]
  },
  {
   "cell_type": "code",
   "execution_count": 2,
   "id": "7b97f383-c0db-444f-a575-6bc873a7b2b6",
   "metadata": {},
   "outputs": [
    {
     "data": {
      "text/plain": [
       "<sqlalchemy.orm.session.Session at 0x115ea5ee0>"
      ]
     },
     "execution_count": 2,
     "metadata": {},
     "output_type": "execute_result"
    }
   ],
   "source": [
    "engine = create_engine(\"sqlite://\")\n",
    "session = Session(engine)\n",
    "db.Model.metadata.create_all(engine)\n",
    "session"
   ]
  },
  {
   "cell_type": "markdown",
   "id": "a5cd72be-3f7d-4f81-acfc-10bf082e6c24",
   "metadata": {},
   "source": [
    "# The most relevant attributes for us are:\n",
    "  - Category\n",
    "  - Thread Size\n",
    "  - Material\n",
    "  - Finish"
   ]
  },
  {
   "cell_type": "code",
   "execution_count": 3,
   "id": "9b8d4ee0-9447-4951-a1d8-71b6b45f76b6",
   "metadata": {},
   "outputs": [
    {
     "name": "stdout",
     "output_type": "stream",
     "text": [
      "Seller name is a, the raw data looks like this:\n"
     ]
    },
    {
     "data": {
      "text/html": [
       "<div>\n",
       "<style scoped>\n",
       "    .dataframe tbody tr th:only-of-type {\n",
       "        vertical-align: middle;\n",
       "    }\n",
       "\n",
       "    .dataframe tbody tr th {\n",
       "        vertical-align: top;\n",
       "    }\n",
       "\n",
       "    .dataframe thead th {\n",
       "        text-align: right;\n",
       "    }\n",
       "</style>\n",
       "<table border=\"1\" class=\"dataframe\">\n",
       "  <thead>\n",
       "    <tr style=\"text-align: right;\">\n",
       "      <th></th>\n",
       "      <th>product_id</th>\n",
       "      <th>description</th>\n",
       "      <th>thread_size</th>\n",
       "      <th>material</th>\n",
       "      <th>finish</th>\n",
       "      <th>quantity</th>\n",
       "      <th>price</th>\n",
       "      <th>category</th>\n",
       "    </tr>\n",
       "  </thead>\n",
       "  <tbody>\n",
       "    <tr>\n",
       "      <th>0</th>\n",
       "      <td>A001</td>\n",
       "      <td>M10-1.5 X 100 HCS DIN 931 8.8 PLN</td>\n",
       "      <td>M10-1.5</td>\n",
       "      <td>Steel</td>\n",
       "      <td>Plain</td>\n",
       "      <td>500</td>\n",
       "      <td>0.75</td>\n",
       "      <td>Hex Cap Screw</td>\n",
       "    </tr>\n",
       "    <tr>\n",
       "      <th>1</th>\n",
       "      <td>A002</td>\n",
       "      <td>1/4-20 X 2 GR5 TEF BLU HEX HEAD CAP SC</td>\n",
       "      <td>1/4-20</td>\n",
       "      <td>Steel</td>\n",
       "      <td>Teflon Blue</td>\n",
       "      <td>1000</td>\n",
       "      <td>0.50</td>\n",
       "      <td>Hex Cap Screw</td>\n",
       "    </tr>\n",
       "    <tr>\n",
       "      <th>2</th>\n",
       "      <td>A003</td>\n",
       "      <td>M12-1.75 X 220 HCS DIN 931 10.9 PLN</td>\n",
       "      <td>M12-1.75</td>\n",
       "      <td>Steel</td>\n",
       "      <td>Plain</td>\n",
       "      <td>750</td>\n",
       "      <td>1.25</td>\n",
       "      <td>Hex Cap Screw</td>\n",
       "    </tr>\n",
       "    <tr>\n",
       "      <th>3</th>\n",
       "      <td>A004</td>\n",
       "      <td>M14-2 X 80 HCS DIN 931 8.8 ZC</td>\n",
       "      <td>M14-2</td>\n",
       "      <td>Steel</td>\n",
       "      <td>Zinc</td>\n",
       "      <td>600</td>\n",
       "      <td>1.10</td>\n",
       "      <td>Hex Cap Screw</td>\n",
       "    </tr>\n",
       "    <tr>\n",
       "      <th>4</th>\n",
       "      <td>A005</td>\n",
       "      <td>M8-1.25 X 60 HCS DIN 931 8.8 ZC</td>\n",
       "      <td>M8-1.25</td>\n",
       "      <td>Steel</td>\n",
       "      <td>Zinc</td>\n",
       "      <td>1200</td>\n",
       "      <td>0.40</td>\n",
       "      <td>Hex Cap Screw</td>\n",
       "    </tr>\n",
       "  </tbody>\n",
       "</table>\n",
       "</div>"
      ],
      "text/plain": [
       "  product_id                             description thread_size material  \\\n",
       "0       A001       M10-1.5 X 100 HCS DIN 931 8.8 PLN     M10-1.5    Steel   \n",
       "1       A002  1/4-20 X 2 GR5 TEF BLU HEX HEAD CAP SC      1/4-20    Steel   \n",
       "2       A003     M12-1.75 X 220 HCS DIN 931 10.9 PLN    M12-1.75    Steel   \n",
       "3       A004           M14-2 X 80 HCS DIN 931 8.8 ZC       M14-2    Steel   \n",
       "4       A005         M8-1.25 X 60 HCS DIN 931 8.8 ZC     M8-1.25    Steel   \n",
       "\n",
       "        finish quantity price       category  \n",
       "0        Plain      500  0.75  Hex Cap Screw  \n",
       "1  Teflon Blue     1000  0.50  Hex Cap Screw  \n",
       "2        Plain      750  1.25  Hex Cap Screw  \n",
       "3         Zinc      600  1.10  Hex Cap Screw  \n",
       "4         Zinc     1200  0.40  Hex Cap Screw  "
      ]
     },
     "execution_count": 3,
     "metadata": {},
     "output_type": "execute_result"
    }
   ],
   "source": [
    "def read_name_and_df(filename):\n",
    "    # The dtype and na_filter arguments were found to help due to pandas treating the\n",
    "    # string 'None' as a proxy for Nan (in pandas dtype), or None (in python types).\n",
    "    seller_inventory_df = pd.read_csv(filename, dtype=str, na_filter=False)\n",
    "    # This regex captures the part between 'seller-' and the next '-' as a group.\n",
    "    seller_name_match = re.search(r'seller-(\\w+)-', filename)\n",
    "    seller_name = seller_name_match.group(1) if seller_name_match else 'Default-sellerName'\n",
    "    return seller_name, seller_inventory_df\n",
    "\n",
    "sellerA_inventory_filename = 'sample_data/seller-a-20240625-csv-updated.csv'\n",
    "sellerA_name, sellerA_inventory_df = read_name_and_df(sellerA_inventory_filename)\n",
    "\n",
    "print(f'Seller name is {sellerA_name}, the raw data looks like this:')\n",
    "sellerA_inventory_df.head()"
   ]
  },
  {
   "cell_type": "code",
   "execution_count": 4,
   "id": "694b0de1-cbde-49fd-ae0d-ec8bf0e6d60a",
   "metadata": {},
   "outputs": [
    {
     "name": "stdout",
     "output_type": "stream",
     "text": [
      "<class 'pandas.core.frame.DataFrame'>\n",
      "RangeIndex: 5 entries, 0 to 4\n",
      "Data columns (total 8 columns):\n",
      " #   Column       Non-Null Count  Dtype \n",
      "---  ------       --------------  ----- \n",
      " 0   product_id   5 non-null      object\n",
      " 1   description  5 non-null      object\n",
      " 2   thread_size  5 non-null      object\n",
      " 3   material     5 non-null      object\n",
      " 4   finish       5 non-null      object\n",
      " 5   quantity     5 non-null      object\n",
      " 6   price        5 non-null      object\n",
      " 7   category     5 non-null      object\n",
      "dtypes: object(8)\n",
      "memory usage: 452.0+ bytes\n"
     ]
    }
   ],
   "source": [
    "sellerA_inventory_df.info()"
   ]
  },
  {
   "cell_type": "markdown",
   "id": "4f7324de-9474-4093-82d0-d8c19f53a4ae",
   "metadata": {},
   "source": [
    "Let us add this seller to our database:"
   ]
  },
  {
   "cell_type": "code",
   "execution_count": 5,
   "id": "adb17a8d-8c61-4cc5-a085-9078093a9c6f",
   "metadata": {},
   "outputs": [
    {
     "data": {
      "text/plain": [
       "{'id': 1, 'name': 'a'}"
      ]
     },
     "execution_count": 5,
     "metadata": {},
     "output_type": "execute_result"
    }
   ],
   "source": [
    "sellerA = models.Seller(\n",
    "    name=sellerA_name\n",
    ")\n",
    "session.add(sellerA)\n",
    "session.commit()\n",
    "sellerA.to_dict()"
   ]
  },
  {
   "cell_type": "markdown",
   "id": "43ca9cff-3fa4-4b7d-b59f-44ed8c54697d",
   "metadata": {},
   "source": [
    "This Seller \"A\" has the following attributes which match match:\n",
    "  - category\n",
    "  - thread_size\n",
    "  - material\n",
    "  - finish\n",
    "\n",
    "We can map those directly to our objects fields"
   ]
  },
  {
   "cell_type": "code",
   "execution_count": 6,
   "id": "6f9765ad-0498-48a0-beaa-ec65b13ff6ee",
   "metadata": {},
   "outputs": [
    {
     "data": {
      "text/plain": [
       "[<Fastener (transient 4662886128)>,\n",
       " <Fastener (transient 4663577920)>,\n",
       " <Fastener (transient 4663579696)>,\n",
       " <Fastener (transient 4663579888)>,\n",
       " <Fastener (transient 4663579936)>]"
      ]
     },
     "execution_count": 6,
     "metadata": {},
     "output_type": "execute_result"
    }
   ],
   "source": [
    "def df_to_models_A(row, seller):\n",
    "    row_dict = row.to_dict()\n",
    "    \n",
    "    fastener = models.Fastener(**{\n",
    "        'category': row_dict.get('category', 'Default-category'),\n",
    "        'thread_size': row_dict.get('thread_size', 'Default-thread_size'),\n",
    "        'material': row_dict.get('material', 'Default-material'),\n",
    "        'finish': row_dict.get('finish', 'Default-finish'),\n",
    "        'seller': seller\n",
    "    })\n",
    "    return fastener\n",
    "\n",
    "sellerA_inventory_models = sellerA_inventory_df.apply(df_to_models_A, axis=1, seller=sellerA).to_list()\n",
    "sellerA_inventory_models"
   ]
  },
  {
   "cell_type": "markdown",
   "id": "d8d9d2b5-1e06-4ced-8d71-18bd25ea121a",
   "metadata": {},
   "source": [
    "We can then commit these to the session and have them persisted to the db:"
   ]
  },
  {
   "cell_type": "code",
   "execution_count": 7,
   "id": "16ee64bd-d036-4f35-9c0a-732bac19fe4d",
   "metadata": {},
   "outputs": [],
   "source": [
    "session.add_all(sellerA_inventory_models)\n",
    "session.commit()"
   ]
  },
  {
   "cell_type": "markdown",
   "id": "9eb09bab-7c2d-437e-876c-edcbadf7589c",
   "metadata": {},
   "source": [
    "And then we can select to ensure they are in the db:"
   ]
  },
  {
   "cell_type": "code",
   "execution_count": 8,
   "id": "6e3472af-069c-404e-9937-4a3162ba06a3",
   "metadata": {},
   "outputs": [
    {
     "name": "stdout",
     "output_type": "stream",
     "text": [
      "{'id': 1, 'category': 'Hex Cap Screw', 'thread_size': 'M10-1.5', 'material': 'Steel', 'finish': 'Plain', 'seller': {'id': 1, 'name': 'a'}}\n",
      "{'id': 2, 'category': 'Hex Cap Screw', 'thread_size': '1/4-20', 'material': 'Steel', 'finish': 'Teflon Blue', 'seller': {'id': 1, 'name': 'a'}}\n",
      "{'id': 3, 'category': 'Hex Cap Screw', 'thread_size': 'M12-1.75', 'material': 'Steel', 'finish': 'Plain', 'seller': {'id': 1, 'name': 'a'}}\n",
      "{'id': 4, 'category': 'Hex Cap Screw', 'thread_size': 'M14-2', 'material': 'Steel', 'finish': 'Zinc', 'seller': {'id': 1, 'name': 'a'}}\n",
      "{'id': 5, 'category': 'Hex Cap Screw', 'thread_size': 'M8-1.25', 'material': 'Steel', 'finish': 'Zinc', 'seller': {'id': 1, 'name': 'a'}}\n"
     ]
    }
   ],
   "source": [
    "stmt = db.select(models.Fastener)\n",
    "for fastener in session.scalars(stmt):\n",
    "    print(fastener.to_dict())"
   ]
  },
  {
   "cell_type": "markdown",
   "id": "89a52629-a445-49f4-b362-f398a860d734",
   "metadata": {},
   "source": [
    "Now let us turn to the other seller sample data:"
   ]
  },
  {
   "cell_type": "code",
   "execution_count": 9,
   "id": "e834bc8d-0bb6-4f73-bf8d-4f04088f9148",
   "metadata": {},
   "outputs": [
    {
     "name": "stdout",
     "output_type": "stream",
     "text": [
      "Seller name is b, the raw data looks like this:\n"
     ]
    },
    {
     "data": {
      "text/html": [
       "<div>\n",
       "<style scoped>\n",
       "    .dataframe tbody tr th:only-of-type {\n",
       "        vertical-align: middle;\n",
       "    }\n",
       "\n",
       "    .dataframe tbody tr th {\n",
       "        vertical-align: top;\n",
       "    }\n",
       "\n",
       "    .dataframe thead th {\n",
       "        text-align: right;\n",
       "    }\n",
       "</style>\n",
       "<table border=\"1\" class=\"dataframe\">\n",
       "  <thead>\n",
       "    <tr style=\"text-align: right;\">\n",
       "      <th></th>\n",
       "      <th>item_number</th>\n",
       "      <th>product_name</th>\n",
       "      <th>threading</th>\n",
       "      <th>composition</th>\n",
       "      <th>surface_treatment</th>\n",
       "      <th>stock</th>\n",
       "      <th>unit_cost</th>\n",
       "      <th>product_category</th>\n",
       "    </tr>\n",
       "  </thead>\n",
       "  <tbody>\n",
       "    <tr>\n",
       "      <th>0</th>\n",
       "      <td>B001</td>\n",
       "      <td>M12-1.75 X 220 HCS DIN 931 10.9 PLN</td>\n",
       "      <td>M12-1.75</td>\n",
       "      <td>Steel</td>\n",
       "      <td>Plain</td>\n",
       "      <td>700</td>\n",
       "      <td>1.30</td>\n",
       "      <td>Hex Cap Screw</td>\n",
       "    </tr>\n",
       "    <tr>\n",
       "      <th>1</th>\n",
       "      <td>B002</td>\n",
       "      <td>1-8 X 1 3/4 HEX CAP SCREW GR 5 ZC</td>\n",
       "      <td>1-8</td>\n",
       "      <td>Steel</td>\n",
       "      <td>Zinc</td>\n",
       "      <td>250</td>\n",
       "      <td>2.00</td>\n",
       "      <td>Hex Cap Screw</td>\n",
       "    </tr>\n",
       "    <tr>\n",
       "      <th>2</th>\n",
       "      <td>B003</td>\n",
       "      <td>1/4-20 X 2 1/4 HEX CAP SCREW GR 2 STL PLN MANU...</td>\n",
       "      <td>1/4-20</td>\n",
       "      <td>Steel</td>\n",
       "      <td>Plain</td>\n",
       "      <td>1500</td>\n",
       "      <td>0.35</td>\n",
       "      <td>Hex Cap Screw</td>\n",
       "    </tr>\n",
       "    <tr>\n",
       "      <th>3</th>\n",
       "      <td>B004</td>\n",
       "      <td>1/4-20 X 1/2 HEX CAP SCREW ALUM</td>\n",
       "      <td>1/4-20</td>\n",
       "      <td>Aluminum</td>\n",
       "      <td>None</td>\n",
       "      <td>2000</td>\n",
       "      <td>0.30</td>\n",
       "      <td>Hex Cap Screw</td>\n",
       "    </tr>\n",
       "    <tr>\n",
       "      <th>4</th>\n",
       "      <td>B005</td>\n",
       "      <td>1/4-20 X 5-1/4 HEX CAP SCREW GR 5 PLN</td>\n",
       "      <td>1/4-20</td>\n",
       "      <td>Steel</td>\n",
       "      <td>Plain</td>\n",
       "      <td>600</td>\n",
       "      <td>0.70</td>\n",
       "      <td>Hex Cap Screw</td>\n",
       "    </tr>\n",
       "  </tbody>\n",
       "</table>\n",
       "</div>"
      ],
      "text/plain": [
       "  item_number                                       product_name threading  \\\n",
       "0        B001                M12-1.75 X 220 HCS DIN 931 10.9 PLN  M12-1.75   \n",
       "1        B002                  1-8 X 1 3/4 HEX CAP SCREW GR 5 ZC       1-8   \n",
       "2        B003  1/4-20 X 2 1/4 HEX CAP SCREW GR 2 STL PLN MANU...    1/4-20   \n",
       "3        B004                    1/4-20 X 1/2 HEX CAP SCREW ALUM    1/4-20   \n",
       "4        B005              1/4-20 X 5-1/4 HEX CAP SCREW GR 5 PLN    1/4-20   \n",
       "\n",
       "  composition surface_treatment stock unit_cost product_category  \n",
       "0       Steel             Plain   700      1.30    Hex Cap Screw  \n",
       "1       Steel              Zinc   250      2.00    Hex Cap Screw  \n",
       "2       Steel             Plain  1500      0.35    Hex Cap Screw  \n",
       "3    Aluminum              None  2000      0.30    Hex Cap Screw  \n",
       "4       Steel             Plain   600      0.70    Hex Cap Screw  "
      ]
     },
     "execution_count": 9,
     "metadata": {},
     "output_type": "execute_result"
    }
   ],
   "source": [
    "sellerB_inventory_filename = 'sample_data/seller-b-20240625-csv-updated.csv'\n",
    "sellerB_name, sellerB_inventory_df = read_name_and_df(sellerB_inventory_filename)\n",
    "\n",
    "print(f'Seller name is {sellerB_name}, the raw data looks like this:')\n",
    "sellerB_inventory_df.head()"
   ]
  },
  {
   "cell_type": "markdown",
   "id": "b6067b66-d7df-4931-a2a4-41b18a2bcfdc",
   "metadata": {},
   "source": [
    "Let us add this new seller to the db:"
   ]
  },
  {
   "cell_type": "code",
   "execution_count": 10,
   "id": "9d48f49d-7d41-496b-9ceb-d4028073bdcb",
   "metadata": {},
   "outputs": [
    {
     "data": {
      "text/plain": [
       "{'id': 2, 'name': 'b'}"
      ]
     },
     "execution_count": 10,
     "metadata": {},
     "output_type": "execute_result"
    }
   ],
   "source": [
    "sellerB = models.Seller(\n",
    "    name=sellerB_name\n",
    ")\n",
    "session.add(sellerB)\n",
    "session.commit()\n",
    "sellerB.to_dict()"
   ]
  },
  {
   "cell_type": "markdown",
   "id": "02baf38d-a3c9-4bf0-bffb-95e2fe006f19",
   "metadata": {},
   "source": [
    "Since the field names are not exact we can find the best match:\n",
    "  - product_category -> category\n",
    "  - threading -> thread_size\n",
    "  - composition -> material\n",
    "  - surface_treatment -> finish"
   ]
  },
  {
   "cell_type": "code",
   "execution_count": 11,
   "id": "edbf6f91-110c-4ee3-a554-08b1419d1df8",
   "metadata": {},
   "outputs": [
    {
     "data": {
      "text/plain": [
       "[<Fastener (transient 4663705872)>,\n",
       " <Fastener (transient 4663705776)>,\n",
       " <Fastener (transient 4663706208)>,\n",
       " <Fastener (transient 4663705920)>,\n",
       " <Fastener (transient 4663706256)>]"
      ]
     },
     "execution_count": 11,
     "metadata": {},
     "output_type": "execute_result"
    }
   ],
   "source": [
    "def df_to_models_B(row, seller):\n",
    "    row_dict = row.to_dict()\n",
    "    \n",
    "    fastener = models.Fastener(**{\n",
    "        'category': row_dict.get('product_category', 'Default-category'),\n",
    "        'thread_size': row_dict.get('threading', 'Default-thread_size'),\n",
    "        'material': row_dict.get('composition', 'Default-material'),\n",
    "        'finish': row_dict.get('surface_treatment', 'Default-finish'),\n",
    "        'seller': seller\n",
    "    })\n",
    "    return fastener\n",
    "\n",
    "sellerB_inventory_models = sellerB_inventory_df.apply(df_to_models_B, axis=1, seller=sellerB).to_list()\n",
    "sellerB_inventory_models"
   ]
  },
  {
   "cell_type": "code",
   "execution_count": 12,
   "id": "fab9d9ce-9ed6-4221-8878-a2d9edebf884",
   "metadata": {},
   "outputs": [],
   "source": [
    "session.add_all(sellerB_inventory_models)\n",
    "session.commit()"
   ]
  },
  {
   "cell_type": "code",
   "execution_count": 13,
   "id": "b33d6d6d-a3d6-46a9-ab72-d122f4b6e1cc",
   "metadata": {},
   "outputs": [
    {
     "name": "stdout",
     "output_type": "stream",
     "text": [
      "{'id': 1, 'category': 'Hex Cap Screw', 'thread_size': 'M10-1.5', 'material': 'Steel', 'finish': 'Plain', 'seller': {'id': 1, 'name': 'a'}}\n",
      "{'id': 2, 'category': 'Hex Cap Screw', 'thread_size': '1/4-20', 'material': 'Steel', 'finish': 'Teflon Blue', 'seller': {'id': 1, 'name': 'a'}}\n",
      "{'id': 3, 'category': 'Hex Cap Screw', 'thread_size': 'M12-1.75', 'material': 'Steel', 'finish': 'Plain', 'seller': {'id': 1, 'name': 'a'}}\n",
      "{'id': 4, 'category': 'Hex Cap Screw', 'thread_size': 'M14-2', 'material': 'Steel', 'finish': 'Zinc', 'seller': {'id': 1, 'name': 'a'}}\n",
      "{'id': 5, 'category': 'Hex Cap Screw', 'thread_size': 'M8-1.25', 'material': 'Steel', 'finish': 'Zinc', 'seller': {'id': 1, 'name': 'a'}}\n",
      "{'id': 6, 'category': 'Hex Cap Screw', 'thread_size': 'M12-1.75', 'material': 'Steel', 'finish': 'Plain', 'seller': {'id': 2, 'name': 'b'}}\n",
      "{'id': 7, 'category': 'Hex Cap Screw', 'thread_size': '1-8', 'material': 'Steel', 'finish': 'Zinc', 'seller': {'id': 2, 'name': 'b'}}\n",
      "{'id': 8, 'category': 'Hex Cap Screw', 'thread_size': '1/4-20', 'material': 'Steel', 'finish': 'Plain', 'seller': {'id': 2, 'name': 'b'}}\n",
      "{'id': 9, 'category': 'Hex Cap Screw', 'thread_size': '1/4-20', 'material': 'Aluminum', 'finish': 'None', 'seller': {'id': 2, 'name': 'b'}}\n",
      "{'id': 10, 'category': 'Hex Cap Screw', 'thread_size': '1/4-20', 'material': 'Steel', 'finish': 'Plain', 'seller': {'id': 2, 'name': 'b'}}\n"
     ]
    }
   ],
   "source": [
    "stmt = db.select(models.Fastener)\n",
    "for fastener in session.scalars(stmt):\n",
    "    print(fastener.to_dict())"
   ]
  },
  {
   "cell_type": "markdown",
   "id": "2e359327-ea4a-426a-845a-fc81870e5310",
   "metadata": {},
   "source": [
    "The above analysis was made after crafting the models in the app, and was then used to guide the development of the ingestion modules."
   ]
  }
 ],
 "metadata": {
  "kernelspec": {
   "display_name": "Python 3 (ipykernel)",
   "language": "python",
   "name": "python3"
  },
  "language_info": {
   "codemirror_mode": {
    "name": "ipython",
    "version": 3
   },
   "file_extension": ".py",
   "mimetype": "text/x-python",
   "name": "python",
   "nbconvert_exporter": "python",
   "pygments_lexer": "ipython3",
   "version": "3.12.3"
  }
 },
 "nbformat": 4,
 "nbformat_minor": 5
}
